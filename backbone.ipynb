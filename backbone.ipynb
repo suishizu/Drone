{
 "cells": [
  {
   "cell_type": "markdown",
   "id": "29d6d0f4",
   "metadata": {},
   "source": [
    "<h3>引入</h4>"
   ]
  },
  {
   "cell_type": "code",
   "execution_count": 248,
   "id": "4a40a9eb",
   "metadata": {},
   "outputs": [],
   "source": [
    "import numpy as np\n",
    "import scipy\n",
    "from scipy.fft import fft\n",
    "from scipy.signal import stft\n",
    "import tensorflow as tf\n",
    "import matplotlib.pyplot as plt"
   ]
  },
  {
   "cell_type": "markdown",
   "id": "7028d30f",
   "metadata": {},
   "source": [
    "<h3>生成RGB图像(UAV论文)</h3>\n",
    "<h5 style = \"color: yellow\">数据引入</h5>"
   ]
  },
  {
   "cell_type": "code",
   "execution_count": 249,
   "id": "e35e441d",
   "metadata": {},
   "outputs": [
    {
     "data": {
      "text/plain": [
       "<tf.Tensor: shape=(150, 6000), dtype=complex64, numpy=\n",
       "array([[-0.01367188-0.23510742j, -0.01391602-0.23364258j,\n",
       "        -0.01391602-0.23535156j, ..., -0.02392578-0.24047852j,\n",
       "        -0.02416992-0.2409668j , -0.02490234-0.24169922j],\n",
       "       [-0.01074219-0.24438477j, -0.01025391-0.2434082j ,\n",
       "        -0.01171875-0.24511719j, ..., -0.02416992-0.24951172j,\n",
       "        -0.02441406-0.2487793j , -0.02514648-0.2487793j ],\n",
       "       [-0.01806641-0.23046875j, -0.01806641-0.22851562j,\n",
       "        -0.01928711-0.23022461j, ..., -0.02880859-0.23730469j,\n",
       "        -0.02978516-0.2368164j , -0.02929688-0.23706055j],\n",
       "       ...,\n",
       "       [-0.02050781-0.21948242j, -0.01928711-0.22045898j,\n",
       "        -0.01831055-0.22094727j, ..., -0.01635742-0.23022461j,\n",
       "        -0.01660156-0.22998047j, -0.01831055-0.23071289j],\n",
       "       [-0.03149414-0.22631836j, -0.03125   -0.2277832j ,\n",
       "        -0.03100586-0.22851562j, ..., -0.03271484-0.23657227j,\n",
       "        -0.03271484-0.23730469j, -0.03466797-0.23754883j],\n",
       "       [-0.02441406-0.21948242j, -0.02416992-0.2211914j ,\n",
       "        -0.02490234-0.2211914j , ..., -0.0300293 -0.22973633j,\n",
       "        -0.02954102-0.23046875j, -0.03222656-0.23046875j]],\n",
       "      dtype=complex64)>"
      ]
     },
     "execution_count": 249,
     "metadata": {},
     "output_type": "execute_result"
    }
   ],
   "source": [
    "data = scipy.io.loadmat('dataset.mat')\n",
    "channelA_data = data['echoes']['channelA']  # 形状为 (150, 6000)\n",
    "channelB_data = data['echoes']['channelB']  # 形状为 (150, 6000)\n",
    "dataset = np.hstack((channelA_data, channelB_data)).T\n",
    "dataset = tf.cast(dataset[0][0], tf.complex64)\n",
    "dataset"
   ]
  },
  {
   "cell_type": "code",
   "execution_count": 250,
   "id": "38d64a41",
   "metadata": {},
   "outputs": [],
   "source": [
    "# 定义复数到实数的转换函数\n",
    "def complex_to_real(complex_data):\n",
    " # 将复数转换为实部和虚部\n",
    " real_part = np.real(complex_data)\n",
    " imag_part = np.imag(complex_data)\n",
    "\n",
    " # 将实部和虚部堆叠成新的数组\n",
    " real_imag_stack = np.stack([real_part, imag_part], axis=-1)\n",
    " print(real_imag_stack.shape)\n",
    "\n",
    " return real_imag_stack"
   ]
  },
  {
   "cell_type": "markdown",
   "id": "d58d067f",
   "metadata": {},
   "source": [
    "<h5 style = \"color: blue\">数据融合</h5>"
   ]
  },
  {
   "cell_type": "code",
   "execution_count": 251,
   "id": "e9ee55a8",
   "metadata": {},
   "outputs": [],
   "source": [
    "# 数据融合函数\n",
    "def data_fusion(real_part, rd_spectrum, tf_spectrum):\n",
    "\n",
    "    '''\n",
    "    # 将雷达原始信号、RD谱图和TF谱图转换为实数表示\n",
    "    radar_raw_real = complex_to_real(real_part)\n",
    "    rd_spectrum_real = complex_to_real(rd_spectrum)\n",
    "    tf_spectrum_real = complex_to_real(tf_spectrum)\n",
    "    '''\n",
    "\n",
    "    # 归一化处理\n",
    "    radar_raw_norm = real_part / np.max(np.abs(real_part))\n",
    "    rd_spectrum_norm = rd_spectrum / np.max(np.abs(rd_spectrum))\n",
    "    tf_spectrum_norm = tf_spectrum / np.max(np.abs(tf_spectrum))\n",
    "\n",
    "    print(radar_raw_norm.shape, rd_spectrum_norm.shape, tf_spectrum_norm.shape)\n",
    "\n",
    "    # 调整尺寸到227x227\n",
    "    radar_raw_resized = np.resize(radar_raw_norm, (227, 227))\n",
    "    rd_spectrum_resized = np.resize(rd_spectrum_norm, (227, 227))\n",
    "    tf_spectrum_resized = np.resize(tf_spectrum_norm, (227, 227))\n",
    "    \n",
    "    print(radar_raw_resized.shape, rd_spectrum_resized.shape, tf_spectrum_resized.shape)\n",
    "\n",
    "    # 合成到RGB三个通道\n",
    "    fused_image = np.concatenate([radar_raw_resized[:,:,np.newaxis], rd_spectrum_resized[:,:,np.newaxis], tf_spectrum_resized[:,:,np.newaxis]], axis = 2)\n",
    "    print(fused_image.shape)\n",
    "\n",
    "    return fused_image"
   ]
  },
  {
   "cell_type": "markdown",
   "id": "090479e8",
   "metadata": {},
   "source": [
    "<h5 style = \"color: blue\">傅里叶和短时傅里叶变换</h5>"
   ]
  },
  {
   "cell_type": "code",
   "execution_count": 252,
   "id": "60083198",
   "metadata": {},
   "outputs": [
    {
     "name": "stdout",
     "output_type": "stream",
     "text": [
      "(150, 6000) \n",
      " 23333: \n",
      " (150, 6000)\n",
      "(150, 6000) (150, 150, 81)\n"
     ]
    },
    {
     "name": "stderr",
     "output_type": "stream",
     "text": [
      "C:\\Users\\47391\\AppData\\Local\\Temp\\ipykernel_12060\\2886007511.py:12: UserWarning: Input data is complex, switching to return_onesided=False\n",
      "  f, t, stft_result = stft(dataset, nperseg = 150)\n"
     ]
    }
   ],
   "source": [
    "\n",
    " # 将复数转换为实部和虚部\n",
    "real_part = np.real(dataset)\n",
    "imag_part = np.imag(dataset)\n",
    "print(real_part.shape, '\\n 23333: \\n', imag_part.shape)\n",
    "\n",
    "# 计算距离-多普勒谱图（RD谱图）\n",
    "# 对整个数组进行傅里叶变换\n",
    "rd_spectrum = np.abs(fft(dataset))\n",
    "\n",
    "# 计算时频谱图（TF谱图）\n",
    "# 使用短时傅里叶变换（STFT）计算时频特征\n",
    "f, t, stft_result = stft(dataset, nperseg = 150)\n",
    "\n",
    "# 计算幅度谱\n",
    "tf_spectrum = np.abs(stft_result)\n",
    "print(rd_spectrum.shape, tf_spectrum.shape)\n",
    "\n",
    " # 将实部和虚部堆叠成新的数组\n",
    "real_imag_stack = np.stack([real_part, imag_part], axis=-1)"
   ]
  },
  {
   "cell_type": "code",
   "execution_count": 253,
   "id": "d145569b",
   "metadata": {},
   "outputs": [
    {
     "name": "stderr",
     "output_type": "stream",
     "text": [
      "Clipping input data to the valid range for imshow with RGB data ([0..1] for floats or [0..255] for integers). Got range [-0.30569106..1.0].\n"
     ]
    },
    {
     "name": "stdout",
     "output_type": "stream",
     "text": [
      "(150, 6000) (150, 6000) (150, 150, 81)\n",
      "(227, 227) (227, 227) (227, 227)\n",
      "(227, 227, 3)\n"
     ]
    },
    {
     "data": {
      "image/png": "[encoded data removed]",
      "text/plain": [
       "<Figure size 640x480 with 1 Axes>"
      ]
     },
     "metadata": {},
     "output_type": "display_data"
    }
   ],
   "source": [
    "# 将复数转换为实部和虚部\n",
    "real_part = np.real(dataset)\n",
    "imag_part = np.imag(dataset)\n",
    "fused_data = data_fusion(real_part, rd_spectrum, tf_spectrum)\n",
    "\n",
    "# 显示实部图像\n",
    "plt.imshow(fused_data)\n",
    "plt.title(\"Real Part\")\n",
    "plt.show()"
   ]
  }
 ],
 "metadata": {
  "kernelspec": {
   "display_name": "Python 3",
   "language": "python",
   "name": "python3"
  },
  "language_info": {
   "codemirror_mode": {
    "name": "ipython",
    "version": 3
   },
   "file_extension": ".py",
   "mimetype": "text/x-python",
   "name": "python",
   "nbconvert_exporter": "python",
   "pygments_lexer": "ipython3",
   "version": "3.11.9"
  }
 },
 "nbformat": 4,
 "nbformat_minor": 5
}
